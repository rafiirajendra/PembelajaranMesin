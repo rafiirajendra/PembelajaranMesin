{
 "cells": [
  {
   "cell_type": "code",
   "execution_count": 2,
   "id": "e63d3650",
   "metadata": {},
   "outputs": [
    {
     "name": "stdout",
     "output_type": "stream",
     "text": [
      "Requirement already satisfied: PyPREP in c:\\users\\rafir\\anaconda3\\lib\\site-packages (0.5.0)\n",
      "Requirement already satisfied: scipy in c:\\users\\rafir\\anaconda3\\lib\\site-packages (1.15.3)\n",
      "Requirement already satisfied: wandb in c:\\users\\rafir\\anaconda3\\lib\\site-packages (0.21.3)\n",
      "Requirement already satisfied: pyECG in c:\\users\\rafir\\anaconda3\\lib\\site-packages (0.0.9.1)\n",
      "Requirement already satisfied: mne>=1.3.0 in c:\\users\\rafir\\anaconda3\\lib\\site-packages (from PyPREP) (1.10.1)\n",
      "Requirement already satisfied: numpy>=1.20.2 in c:\\users\\rafir\\anaconda3\\lib\\site-packages (from PyPREP) (2.1.3)\n",
      "Requirement already satisfied: psutil>=5.4.3 in c:\\users\\rafir\\appdata\\roaming\\python\\python313\\site-packages (from PyPREP) (7.0.0)\n",
      "Requirement already satisfied: click>=8.0.1 in c:\\users\\rafir\\anaconda3\\lib\\site-packages (from wandb) (8.1.8)\n",
      "Requirement already satisfied: gitpython!=3.1.29,>=1.0.0 in c:\\users\\rafir\\anaconda3\\lib\\site-packages (from wandb) (3.1.43)\n",
      "Requirement already satisfied: packaging in c:\\users\\rafir\\anaconda3\\lib\\site-packages (from wandb) (24.2)\n",
      "Requirement already satisfied: platformdirs in c:\\users\\rafir\\appdata\\roaming\\python\\python313\\site-packages (from wandb) (4.3.6)\n",
      "Requirement already satisfied: protobuf!=4.21.0,!=5.28.0,<7,>=3.19.0 in c:\\users\\rafir\\anaconda3\\lib\\site-packages (from wandb) (5.29.3)\n",
      "Requirement already satisfied: pydantic<3 in c:\\users\\rafir\\anaconda3\\lib\\site-packages (from wandb) (2.10.3)\n",
      "Requirement already satisfied: pyyaml in c:\\users\\rafir\\anaconda3\\lib\\site-packages (from wandb) (6.0.2)\n",
      "Requirement already satisfied: requests<3,>=2.0.0 in c:\\users\\rafir\\anaconda3\\lib\\site-packages (from wandb) (2.32.3)\n",
      "Requirement already satisfied: sentry-sdk>=2.0.0 in c:\\users\\rafir\\anaconda3\\lib\\site-packages (from wandb) (2.18.0)\n",
      "Requirement already satisfied: typing-extensions<5,>=4.8 in c:\\users\\rafir\\anaconda3\\lib\\site-packages (from wandb) (4.12.2)\n",
      "Requirement already satisfied: annotated-types>=0.6.0 in c:\\users\\rafir\\anaconda3\\lib\\site-packages (from pydantic<3->wandb) (0.6.0)\n",
      "Requirement already satisfied: pydantic-core==2.27.1 in c:\\users\\rafir\\anaconda3\\lib\\site-packages (from pydantic<3->wandb) (2.27.1)\n",
      "Requirement already satisfied: charset-normalizer<4,>=2 in c:\\users\\rafir\\anaconda3\\lib\\site-packages (from requests<3,>=2.0.0->wandb) (3.3.2)\n",
      "Requirement already satisfied: idna<4,>=2.5 in c:\\users\\rafir\\anaconda3\\lib\\site-packages (from requests<3,>=2.0.0->wandb) (3.7)\n",
      "Requirement already satisfied: urllib3<3,>=1.21.1 in c:\\users\\rafir\\anaconda3\\lib\\site-packages (from requests<3,>=2.0.0->wandb) (2.3.0)\n",
      "Requirement already satisfied: certifi>=2017.4.17 in c:\\users\\rafir\\anaconda3\\lib\\site-packages (from requests<3,>=2.0.0->wandb) (2025.8.3)\n",
      "Requirement already satisfied: ishneholterlib==2017.4.11 in c:\\users\\rafir\\anaconda3\\lib\\site-packages (from pyECG) (2017.4.11)\n",
      "Requirement already satisfied: wfdb==2.2.1 in c:\\users\\rafir\\anaconda3\\lib\\site-packages (from pyECG) (2.2.1)\n",
      "Requirement already satisfied: pytest in c:\\users\\rafir\\anaconda3\\lib\\site-packages (from pyECG) (8.3.4)\n",
      "Requirement already satisfied: pytest-cov in c:\\users\\rafir\\anaconda3\\lib\\site-packages (from pyECG) (6.2.1)\n",
      "Requirement already satisfied: PyCRC in c:\\users\\rafir\\anaconda3\\lib\\site-packages (from ishneholterlib==2017.4.11->pyECG) (0.11.0)\n",
      "Requirement already satisfied: nose>=1.3.7 in c:\\users\\rafir\\anaconda3\\lib\\site-packages (from wfdb==2.2.1->pyECG) (1.3.7)\n",
      "Requirement already satisfied: matplotlib>=1.5.1 in c:\\users\\rafir\\anaconda3\\lib\\site-packages (from wfdb==2.2.1->pyECG) (3.10.0)\n",
      "Requirement already satisfied: pandas>=0.19.1 in c:\\users\\rafir\\anaconda3\\lib\\site-packages (from wfdb==2.2.1->pyECG) (2.2.3)\n",
      "Requirement already satisfied: sklearn>=0.0 in c:\\users\\rafir\\anaconda3\\lib\\site-packages (from wfdb==2.2.1->pyECG) (0.0.post12)\n",
      "Requirement already satisfied: colorama in c:\\users\\rafir\\appdata\\roaming\\python\\python313\\site-packages (from click>=8.0.1->wandb) (0.4.6)\n",
      "Requirement already satisfied: gitdb<5,>=4.0.1 in c:\\users\\rafir\\anaconda3\\lib\\site-packages (from gitpython!=3.1.29,>=1.0.0->wandb) (4.0.7)\n",
      "Requirement already satisfied: smmap<5,>=3.0.1 in c:\\users\\rafir\\anaconda3\\lib\\site-packages (from gitdb<5,>=4.0.1->gitpython!=3.1.29,>=1.0.0->wandb) (4.0.0)\n",
      "Requirement already satisfied: contourpy>=1.0.1 in c:\\users\\rafir\\anaconda3\\lib\\site-packages (from matplotlib>=1.5.1->wfdb==2.2.1->pyECG) (1.3.1)\n",
      "Requirement already satisfied: cycler>=0.10 in c:\\users\\rafir\\anaconda3\\lib\\site-packages (from matplotlib>=1.5.1->wfdb==2.2.1->pyECG) (0.11.0)\n",
      "Requirement already satisfied: fonttools>=4.22.0 in c:\\users\\rafir\\anaconda3\\lib\\site-packages (from matplotlib>=1.5.1->wfdb==2.2.1->pyECG) (4.55.3)\n",
      "Requirement already satisfied: kiwisolver>=1.3.1 in c:\\users\\rafir\\anaconda3\\lib\\site-packages (from matplotlib>=1.5.1->wfdb==2.2.1->pyECG) (1.4.8)\n",
      "Requirement already satisfied: pillow>=8 in c:\\users\\rafir\\anaconda3\\lib\\site-packages (from matplotlib>=1.5.1->wfdb==2.2.1->pyECG) (11.1.0)\n",
      "Requirement already satisfied: pyparsing>=2.3.1 in c:\\users\\rafir\\anaconda3\\lib\\site-packages (from matplotlib>=1.5.1->wfdb==2.2.1->pyECG) (3.2.0)\n",
      "Requirement already satisfied: python-dateutil>=2.7 in c:\\users\\rafir\\anaconda3\\lib\\site-packages (from matplotlib>=1.5.1->wfdb==2.2.1->pyECG) (2.9.0.post0)\n",
      "Requirement already satisfied: decorator in c:\\users\\rafir\\appdata\\roaming\\python\\python313\\site-packages (from mne>=1.3.0->PyPREP) (5.2.1)\n",
      "Requirement already satisfied: jinja2 in c:\\users\\rafir\\anaconda3\\lib\\site-packages (from mne>=1.3.0->PyPREP) (3.1.6)\n",
      "Requirement already satisfied: lazy-loader>=0.3 in c:\\users\\rafir\\anaconda3\\lib\\site-packages (from mne>=1.3.0->PyPREP) (0.4)\n",
      "Requirement already satisfied: pooch>=1.5 in c:\\users\\rafir\\anaconda3\\lib\\site-packages (from mne>=1.3.0->PyPREP) (1.8.2)\n",
      "Requirement already satisfied: tqdm in c:\\users\\rafir\\anaconda3\\lib\\site-packages (from mne>=1.3.0->PyPREP) (4.67.1)\n",
      "Requirement already satisfied: pytz>=2020.1 in c:\\users\\rafir\\anaconda3\\lib\\site-packages (from pandas>=0.19.1->wfdb==2.2.1->pyECG) (2024.1)\n",
      "Requirement already satisfied: tzdata>=2022.7 in c:\\users\\rafir\\anaconda3\\lib\\site-packages (from pandas>=0.19.1->wfdb==2.2.1->pyECG) (2025.2)\n",
      "Requirement already satisfied: six>=1.5 in c:\\users\\rafir\\anaconda3\\lib\\site-packages (from python-dateutil>=2.7->matplotlib>=1.5.1->wfdb==2.2.1->pyECG) (1.17.0)\n",
      "Requirement already satisfied: MarkupSafe>=2.0 in c:\\users\\rafir\\anaconda3\\lib\\site-packages (from jinja2->mne>=1.3.0->PyPREP) (3.0.2)\n",
      "Requirement already satisfied: importlib-metadata>=4.0 in c:\\users\\rafir\\anaconda3\\lib\\site-packages (from PyCRC->ishneholterlib==2017.4.11->pyECG) (8.5.0)\n",
      "Requirement already satisfied: zipp>=3.20 in c:\\users\\rafir\\anaconda3\\lib\\site-packages (from importlib-metadata>=4.0->PyCRC->ishneholterlib==2017.4.11->pyECG) (3.21.0)\n",
      "Requirement already satisfied: iniconfig in c:\\users\\rafir\\anaconda3\\lib\\site-packages (from pytest->pyECG) (1.1.1)\n",
      "Requirement already satisfied: pluggy<2,>=1.5 in c:\\users\\rafir\\anaconda3\\lib\\site-packages (from pytest->pyECG) (1.5.0)\n",
      "Requirement already satisfied: coverage>=7.5 in c:\\users\\rafir\\anaconda3\\lib\\site-packages (from coverage[toml]>=7.5->pytest-cov->pyECG) (7.10.6)\n",
      "Note: you may need to restart the kernel to use updated packages.\n"
     ]
    }
   ],
   "source": [
    "%pip install PyPREP scipy wandb pyECG"
   ]
  },
  {
   "cell_type": "markdown",
   "id": "57b4b43d",
   "metadata": {},
   "source": [
    "## Bagian 1"
   ]
  },
  {
   "cell_type": "markdown",
   "id": "753ca120",
   "metadata": {},
   "source": [
    "Kegunakan masing-masing library:\n",
    "a. PyPREP   : PyPREP adalah singkatan dari Python Preprocessing Pipeline. Library ini didesain khusus untuk membersihkan dan mempersiapkan data Sinyal Elektroensefalografi (EEG)\n",
    "b. Scipy    : Scipy (Scientific Python) adalah salah satu library fundamental untuk komputasi ilmiah dan teknis dalam bahasa pemrograman Python\n",
    "c. wandb    : Wandb adalah sebuah platform dan library yang berfungsi sebagai alat untuk melacak, memvisualisasikan, dan mengelola eksperimen machine learning\n",
    "d. pyECG    : pyECG adalah library yang dikhususkan untuk analisis sinyal Elektrokardiogram (EKG)"
   ]
  },
  {
   "cell_type": "markdown",
   "id": "96f0914e",
   "metadata": {},
   "source": [
    "## Bagian 2"
   ]
  },
  {
   "cell_type": "markdown",
   "id": "1a281ecd",
   "metadata": {},
   "source": [
    "1. Berikan contoh tentang tidakan melanggar etika dan hukum tentang penggunaan kecerdasan buatan. Sertakan referensi yang digunakan.\n",
    "- Jawab: Penyalahgunaan Teknologi Pengenalan Wajah: Ini adalah pelanggaran berat terhadap privasi dan kebebasan individu. Pengawasan massal dapat menciptakan \"efek dingin\" (chilling effect), di mana orang merasa takut untuk mengekspresikan pendapat atau berkumpul secara bebas karena merasa terus-menerus diawasi. Di Uni Eropa, praktik semacam ini dapat melanggar General Data Protection Regulation (GDPR), yang menganggap data biometrik sebagai data sensitif dan memerlukan dasar hukum yang kuat untuk pemrosesannya. Beberapa kota di Amerika Serikat bahkan telah melarang penggunaan teknologi ini oleh lembaga pemerintah.\n",
    "- Deepfake untuk Penipuan dan Disinformasi: Ini adalah bentuk manipulasi, pencemaran nama baik, dan pelecehan yang ekstrem. Deepfake merusak kepercayaan pada media dan dapat menyebabkan kerugian reputasi, emosional, dan finansial yang parah bagi korbannya. Membuat dan menyebarkan deepfake berbahaya dapat dikategorikan sebagai penipuan (fraud), pencemaran nama baik (defamation), dan kejahatan siber. Banyak negara sedang merumuskan undang-undang khusus untuk mengatasi ancaman dari teknologi ini.\n",
    "- Referensi: \n",
    "- Ajder, H., et al. (2019). The State of Deepfakes: Landscapes, Threats, and Impact. Deeptrace.\n",
    "- Amnesty International. (2021). Ban The Scan\n",
    "2. Berikan contoh tentang dampak energi dan lingkungan terhadap pemanfaatan kecerdasan buatan dan bagaimana cara mengatasinya (Anda dapat memberikan pendapat pribadi). Sertakan referensi yang digunakan.\n",
    "- Jawab: Konsumsi Energi yang Sangat Besar: Sebuah studi dari Universitas Massachusetts, Amherst, menemukan bahwa melatih satu model AI besar dapat menghasilkan emisi karbon setara dengan lima kali masa hidup sebuah mobil, termasuk proses produksinya (Strubell, Ganesh, & McCallum, 2019).\n",
    "- Penggunaan Air dan E-Waste (Limbah Elektronik): Pusat data juga menggunakan air dalam jumlah besar untuk sistem pendinginannya. Perkembangan AI yang pesat mendorong siklus penggantian perangkat keras (GPU, CPU) yang cepat, menghasilkan tumpukan limbah elektronik yang sering kali mengandung bahan berbahaya.\n",
    "- Cara mengatasinya menurut saya, tanggung jawab terbesar terletak pada para pengembang dan perusahaan teknologi itu sendiri. Seringkali, \"perlombaan\" untuk menciptakan AI terbesar dan terkuat mengabaikan biaya lingkungannya. Perlu ada pergeseran budaya dalam komunitas AI, di mana efisiensi bukan lagi sekadar bonus, melainkan sebuah keharusan. Sama seperti pengembang perangkat lunak sekarang memikirkan keamanan sejak awal (security by design), mereka juga"
   ]
  }
 ],
 "metadata": {
  "kernelspec": {
   "display_name": "base",
   "language": "python",
   "name": "python3"
  },
  "language_info": {
   "codemirror_mode": {
    "name": "ipython",
    "version": 3
   },
   "file_extension": ".py",
   "mimetype": "text/x-python",
   "name": "python",
   "nbconvert_exporter": "python",
   "pygments_lexer": "ipython3",
   "version": "3.13.5"
  }
 },
 "nbformat": 4,
 "nbformat_minor": 5
}
