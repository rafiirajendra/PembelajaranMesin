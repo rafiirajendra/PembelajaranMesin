{
 "cells": [
  {
   "cell_type": "code",
   "execution_count": 1,
   "id": "63159629",
   "metadata": {},
   "outputs": [
    {
     "name": "stdout",
     "output_type": "stream",
     "text": [
      "Collecting PyPREP\n",
      "  Downloading pyprep-0.5.0-py3-none-any.whl.metadata (7.3 kB)\n",
      "Requirement already satisfied: scipy in c:\\users\\rafir\\anaconda3\\lib\\site-packages (1.15.3)\n",
      "Collecting wandb\n",
      "  Downloading wandb-0.21.3-py3-none-win_amd64.whl.metadata (10 kB)\n",
      "Collecting pyECG\n",
      "  Downloading pyECG-0.0.9.1-py2.py3-none-any.whl.metadata (3.1 kB)\n",
      "Collecting mne>=1.3.0 (from PyPREP)\n",
      "  Downloading mne-1.10.1-py3-none-any.whl.metadata (20 kB)\n",
      "Requirement already satisfied: numpy>=1.20.2 in c:\\users\\rafir\\anaconda3\\lib\\site-packages (from PyPREP) (2.1.3)\n",
      "Requirement already satisfied: psutil>=5.4.3 in c:\\users\\rafir\\appdata\\roaming\\python\\python313\\site-packages (from PyPREP) (7.0.0)\n",
      "Requirement already satisfied: click>=8.0.1 in c:\\users\\rafir\\anaconda3\\lib\\site-packages (from wandb) (8.1.8)\n",
      "Requirement already satisfied: gitpython!=3.1.29,>=1.0.0 in c:\\users\\rafir\\anaconda3\\lib\\site-packages (from wandb) (3.1.43)\n",
      "Requirement already satisfied: packaging in c:\\users\\rafir\\anaconda3\\lib\\site-packages (from wandb) (24.2)\n",
      "Requirement already satisfied: platformdirs in c:\\users\\rafir\\appdata\\roaming\\python\\python313\\site-packages (from wandb) (4.3.6)\n",
      "Requirement already satisfied: protobuf!=4.21.0,!=5.28.0,<7,>=3.19.0 in c:\\users\\rafir\\anaconda3\\lib\\site-packages (from wandb) (5.29.3)\n",
      "Requirement already satisfied: pydantic<3 in c:\\users\\rafir\\anaconda3\\lib\\site-packages (from wandb) (2.10.3)\n",
      "Requirement already satisfied: pyyaml in c:\\users\\rafir\\anaconda3\\lib\\site-packages (from wandb) (6.0.2)\n",
      "Requirement already satisfied: requests<3,>=2.0.0 in c:\\users\\rafir\\anaconda3\\lib\\site-packages (from wandb) (2.32.3)\n",
      "Requirement already satisfied: sentry-sdk>=2.0.0 in c:\\users\\rafir\\anaconda3\\lib\\site-packages (from wandb) (2.18.0)\n",
      "Requirement already satisfied: typing-extensions<5,>=4.8 in c:\\users\\rafir\\anaconda3\\lib\\site-packages (from wandb) (4.12.2)\n",
      "Requirement already satisfied: annotated-types>=0.6.0 in c:\\users\\rafir\\anaconda3\\lib\\site-packages (from pydantic<3->wandb) (0.6.0)\n",
      "Requirement already satisfied: pydantic-core==2.27.1 in c:\\users\\rafir\\anaconda3\\lib\\site-packages (from pydantic<3->wandb) (2.27.1)\n",
      "Requirement already satisfied: charset-normalizer<4,>=2 in c:\\users\\rafir\\anaconda3\\lib\\site-packages (from requests<3,>=2.0.0->wandb) (3.3.2)\n",
      "Requirement already satisfied: idna<4,>=2.5 in c:\\users\\rafir\\anaconda3\\lib\\site-packages (from requests<3,>=2.0.0->wandb) (3.7)\n",
      "Requirement already satisfied: urllib3<3,>=1.21.1 in c:\\users\\rafir\\anaconda3\\lib\\site-packages (from requests<3,>=2.0.0->wandb) (2.3.0)\n",
      "Requirement already satisfied: certifi>=2017.4.17 in c:\\users\\rafir\\anaconda3\\lib\\site-packages (from requests<3,>=2.0.0->wandb) (2025.8.3)\n",
      "Collecting ishneholterlib==2017.4.11 (from pyECG)\n",
      "  Downloading ishneholterlib-2017.4.11.tar.gz (7.0 kB)\n",
      "  Preparing metadata (setup.py): started\n",
      "  Preparing metadata (setup.py): finished with status 'done'\n",
      "Collecting wfdb==2.2.1 (from pyECG)\n",
      "  Downloading wfdb-2.2.1.tar.gz (94 kB)\n",
      "  Preparing metadata (setup.py): started\n",
      "  Preparing metadata (setup.py): finished with status 'done'\n",
      "Requirement already satisfied: pytest in c:\\users\\rafir\\anaconda3\\lib\\site-packages (from pyECG) (8.3.4)\n",
      "Collecting pytest-cov (from pyECG)\n",
      "  Downloading pytest_cov-6.2.1-py3-none-any.whl.metadata (30 kB)\n",
      "Collecting PyCRC (from ishneholterlib==2017.4.11->pyECG)\n",
      "  Downloading pycrc-0.11.0-py3-none-any.whl.metadata (2.7 kB)\n",
      "Collecting nose>=1.3.7 (from wfdb==2.2.1->pyECG)\n",
      "  Downloading nose-1.3.7-py3-none-any.whl.metadata (1.7 kB)\n",
      "Requirement already satisfied: matplotlib>=1.5.1 in c:\\users\\rafir\\anaconda3\\lib\\site-packages (from wfdb==2.2.1->pyECG) (3.10.0)\n",
      "Requirement already satisfied: pandas>=0.19.1 in c:\\users\\rafir\\anaconda3\\lib\\site-packages (from wfdb==2.2.1->pyECG) (2.2.3)\n",
      "Collecting sklearn>=0.0 (from wfdb==2.2.1->pyECG)\n",
      "  Downloading sklearn-0.0.post12.tar.gz (2.6 kB)\n",
      "  Preparing metadata (setup.py): started\n",
      "  Preparing metadata (setup.py): finished with status 'error'\n",
      "Note: you may need to restart the kernel to use updated packages.\n"
     ]
    },
    {
     "name": "stderr",
     "output_type": "stream",
     "text": [
      "  error: subprocess-exited-with-error\n",
      "  \n",
      "  × python setup.py egg_info did not run successfully.\n",
      "  │ exit code: 1\n",
      "  ╰─> [15 lines of output]\n",
      "      The 'sklearn' PyPI package is deprecated, use 'scikit-learn'\n",
      "      rather than 'sklearn' for pip commands.\n",
      "      \n",
      "      Here is how to fix this error in the main use cases:\n",
      "      - use 'pip install scikit-learn' rather than 'pip install sklearn'\n",
      "      - replace 'sklearn' by 'scikit-learn' in your pip requirements files\n",
      "        (requirements.txt, setup.py, setup.cfg, Pipfile, etc ...)\n",
      "      - if the 'sklearn' package is used by one of your dependencies,\n",
      "        it would be great if you take some time to track which package uses\n",
      "        'sklearn' instead of 'scikit-learn' and report it to their issue tracker\n",
      "      - as a last resort, set the environment variable\n",
      "        SKLEARN_ALLOW_DEPRECATED_SKLEARN_PACKAGE_INSTALL=True to avoid this error\n",
      "      \n",
      "      More information is available at\n",
      "      https://github.com/scikit-learn/sklearn-pypi-package\n",
      "      [end of output]\n",
      "  \n",
      "  note: This error originates from a subprocess, and is likely not a problem with pip.\n",
      "error: metadata-generation-failed\n",
      "\n",
      "× Encountered error while generating package metadata.\n",
      "╰─> See above for output.\n",
      "\n",
      "note: This is an issue with the package mentioned above, not pip.\n",
      "hint: See above for details.\n"
     ]
    }
   ],
   "source": [
    "%pip install PyPREP scipy wandb pyECG"
   ]
  },
  {
   "cell_type": "markdown",
   "id": "f4c86e1d",
   "metadata": {},
   "source": [
    "## Bagian 1"
   ]
  },
  {
   "cell_type": "markdown",
   "id": "322432cb",
   "metadata": {},
   "source": [
    "Kegunakan masing-masing library:\n",
    "a. PyPREP   : PyPREP adalah singkatan dari Python Preprocessing Pipeline. Library ini didesain khusus untuk membersihkan dan mempersiapkan data Sinyal Elektroensefalografi (EEG)\n",
    "b. Scipy    : Scipy (Scientific Python) adalah salah satu library fundamental untuk komputasi ilmiah dan teknis dalam bahasa pemrograman Python\n",
    "c. wandb    : Wandb adalah sebuah platform dan library yang berfungsi sebagai alat untuk melacak, memvisualisasikan, dan mengelola eksperimen machine learning\n",
    "d. pyECG    : pyECG adalah library yang dikhususkan untuk analisis sinyal Elektrokardiogram (EKG)"
   ]
  },
  {
   "cell_type": "markdown",
   "id": "f6c438aa",
   "metadata": {},
   "source": [
    "## Bagian 2"
   ]
  },
  {
   "cell_type": "markdown",
   "id": "6cd944d0",
   "metadata": {},
   "source": [
    "1. Berikan contoh tentang tidakan melanggar etika dan hukum tentang penggunaan kecerdasan buatan. Sertakan referensi yang digunakan.\n",
    "- Jawab: Penyalahgunaan Teknologi Pengenalan Wajah: Ini adalah pelanggaran berat terhadap privasi dan kebebasan individu. Pengawasan massal dapat menciptakan \"efek dingin\" (chilling effect), di mana orang merasa takut untuk mengekspresikan pendapat atau berkumpul secara bebas karena merasa terus-menerus diawasi. Di Uni Eropa, praktik semacam ini dapat melanggar General Data Protection Regulation (GDPR), yang menganggap data biometrik sebagai data sensitif dan memerlukan dasar hukum yang kuat untuk pemrosesannya. Beberapa kota di Amerika Serikat bahkan telah melarang penggunaan teknologi ini oleh lembaga pemerintah.\n",
    "- Deepfake untuk Penipuan dan Disinformasi: Ini adalah bentuk manipulasi, pencemaran nama baik, dan pelecehan yang ekstrem. Deepfake merusak kepercayaan pada media dan dapat menyebabkan kerugian reputasi, emosional, dan finansial yang parah bagi korbannya. Membuat dan menyebarkan deepfake berbahaya dapat dikategorikan sebagai penipuan (fraud), pencemaran nama baik (defamation), dan kejahatan siber. Banyak negara sedang merumuskan undang-undang khusus untuk mengatasi ancaman dari teknologi ini.\n",
    "- Referensi: \n",
    "- Ajder, H., et al. (2019). The State of Deepfakes: Landscapes, Threats, and Impact. Deeptrace.\n",
    "- Amnesty International. (2021). Ban The Scan\n",
    "2. Berikan contoh tentang dampak energi dan lingkungan terhadap pemanfaatan kecerdasan buatan dan bagaimana cara mengatasinya (Anda dapat memberikan pendapat pribadi). Sertakan referensi yang digunakan.\n",
    "- Jawab: Konsumsi Energi yang Sangat Besar: Sebuah studi dari Universitas Massachusetts, Amherst, menemukan bahwa melatih satu model AI besar dapat menghasilkan emisi karbon setara dengan lima kali masa hidup sebuah mobil, termasuk proses produksinya (Strubell, Ganesh, & McCallum, 2019).\n",
    "- Penggunaan Air dan E-Waste (Limbah Elektronik): Pusat data juga menggunakan air dalam jumlah besar untuk sistem pendinginannya. Perkembangan AI yang pesat mendorong siklus penggantian perangkat keras (GPU, CPU) yang cepat, menghasilkan tumpukan limbah elektronik yang sering kali mengandung bahan berbahaya.\n",
    "- Cara mengatasinya menurut saya, tanggung jawab terbesar terletak pada para pengembang dan perusahaan teknologi itu sendiri. Seringkali, \"perlombaan\" untuk menciptakan AI terbesar dan terkuat mengabaikan biaya lingkungannya. Perlu ada pergeseran budaya dalam komunitas AI, di mana efisiensi bukan lagi sekadar bonus, melainkan sebuah keharusan. Sama seperti pengembang perangkat lunak sekarang memikirkan keamanan sejak awal (security by design), mereka juga"
   ]
  }
 ],
 "metadata": {
  "kernelspec": {
   "display_name": "base",
   "language": "python",
   "name": "python3"
  },
  "language_info": {
   "codemirror_mode": {
    "name": "ipython",
    "version": 3
   },
   "file_extension": ".py",
   "mimetype": "text/x-python",
   "name": "python",
   "nbconvert_exporter": "python",
   "pygments_lexer": "ipython3",
   "version": "3.13.5"
  }
 },
 "nbformat": 4,
 "nbformat_minor": 5
}
