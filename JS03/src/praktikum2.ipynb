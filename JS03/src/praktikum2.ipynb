{
 "cells": [
  {
   "cell_type": "markdown",
   "id": "a4e985d2",
   "metadata": {},
   "source": [
    "## Praktikum 2"
   ]
  },
  {
   "cell_type": "markdown",
   "id": "933e3695",
   "metadata": {},
   "source": [
    "### Langkah 0 - Siapkan Corpus"
   ]
  },
  {
   "cell_type": "code",
   "execution_count": 1,
   "id": "f1720b3b",
   "metadata": {},
   "outputs": [],
   "source": [
    "corpus = [\n",
    "    'the house had a tiny little mouse',\n",
    "    'the cat saw the mouse',\n",
    "    'the mouse ran away from the house',\n",
    "    'the cat finally ate the mouse',\n",
    "    'the end of the mouse story'\n",
    "]"
   ]
  },
  {
   "cell_type": "markdown",
   "id": "c6a814f7",
   "metadata": {},
   "source": [
    "### Langkah 1 - Buat Model TF-IDF"
   ]
  },
  {
   "cell_type": "code",
   "execution_count": 2,
   "id": "ee231617",
   "metadata": {},
   "outputs": [
    {
     "name": "stdout",
     "output_type": "stream",
     "text": [
      "<Compressed Sparse Row sparse matrix of dtype 'float64'\n",
      "\twith 18 stored elements and shape (5, 12)>\n",
      "  Coords\tValues\n",
      "  (0, 5)\t0.47557510189256375\n",
      "  (0, 11)\t0.5894630806320427\n",
      "  (0, 6)\t0.5894630806320427\n",
      "  (0, 7)\t0.2808823162882302\n",
      "  (1, 7)\t0.3477147117091919\n",
      "  (1, 2)\t0.5887321837696324\n",
      "  (1, 9)\t0.7297183669435993\n",
      "  (2, 5)\t0.47557510189256375\n",
      "  (2, 7)\t0.2808823162882302\n",
      "  (2, 8)\t0.5894630806320427\n",
      "  (2, 1)\t0.5894630806320427\n",
      "  (3, 7)\t0.2808823162882302\n",
      "  (3, 2)\t0.47557510189256375\n",
      "  (3, 4)\t0.5894630806320427\n",
      "  (3, 0)\t0.5894630806320427\n",
      "  (4, 7)\t0.3193023297639811\n",
      "  (4, 3)\t0.6700917930430479\n",
      "  (4, 10)\t0.6700917930430479\n"
     ]
    }
   ],
   "source": [
    "from sklearn.feature_extraction.text import TfidfVectorizer\n",
    "\n",
    "# Inisiasi obyek TFidfVectorizer\n",
    "vect = TfidfVectorizer(stop_words='english')\n",
    "\n",
    "# Pembobotan TF-IDF\n",
    "resp = vect.fit_transform(corpus)\n",
    "\n",
    "# Cetak hasil\n",
    "print(resp)"
   ]
  },
  {
   "cell_type": "markdown",
   "id": "99b673c0",
   "metadata": {},
   "source": [
    "### Langkah 2 - Cek Kata yang Digunakan"
   ]
  },
  {
   "cell_type": "code",
   "execution_count": 3,
   "id": "2868bb87",
   "metadata": {},
   "outputs": [
    {
     "name": "stdout",
     "output_type": "stream",
     "text": [
      "['ate' 'away' 'cat' 'end' 'finally' 'house' 'little' 'mouse' 'ran' 'saw'\n",
      " 'story' 'tiny']\n"
     ]
    }
   ],
   "source": [
    "print(vect.get_feature_names_out())"
   ]
  }
 ],
 "metadata": {
  "kernelspec": {
   "display_name": "base",
   "language": "python",
   "name": "python3"
  },
  "language_info": {
   "codemirror_mode": {
    "name": "ipython",
    "version": 3
   },
   "file_extension": ".py",
   "mimetype": "text/x-python",
   "name": "python",
   "nbconvert_exporter": "python",
   "pygments_lexer": "ipython3",
   "version": "3.13.5"
  }
 },
 "nbformat": 4,
 "nbformat_minor": 5
}
