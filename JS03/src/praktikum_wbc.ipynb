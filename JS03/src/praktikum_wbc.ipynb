{
 "cells": [
  {
   "cell_type": "markdown",
   "id": "32b3c97d",
   "metadata": {},
   "source": [
    "# Praktikum: Analisis Data Wisconsin Breast Cancer"
   ]
  },
  {
   "cell_type": "code",
   "execution_count": null,
   "id": "eb7235ac",
   "metadata": {},
   "outputs": [],
   "source": [
    "\n",
    "import pandas as pd\n",
    "import numpy as np\n",
    "from sklearn.preprocessing import LabelEncoder, StandardScaler\n",
    "from sklearn.feature_selection import SelectKBest, f_classif\n",
    "from sklearn.linear_model import LogisticRegression\n",
    "from sklearn.model_selection import train_test_split, cross_val_score\n",
    "from sklearn.pipeline import Pipeline\n"
   ]
  },
  {
   "cell_type": "code",
   "execution_count": null,
   "id": "d9a36736",
   "metadata": {},
   "outputs": [],
   "source": [
    "\n",
    "# Load dataset\n",
    "df = pd.read_csv(\"wbc.csv\")\n",
    "df.head()\n"
   ]
  },
  {
   "cell_type": "code",
   "execution_count": null,
   "id": "8ab3fd16",
   "metadata": {},
   "outputs": [],
   "source": [
    "df.info()"
   ]
  },
  {
   "cell_type": "code",
   "execution_count": null,
   "id": "cf44f2f0",
   "metadata": {},
   "outputs": [],
   "source": [
    "\n",
    "# Kolom id tidak digunakan, diagnosis adalah target\n",
    "X = df.drop(columns=[\"id\", \"diagnosis\"])\n",
    "y = df[\"diagnosis\"]\n",
    "X.shape, y.shape\n"
   ]
  },
  {
   "cell_type": "code",
   "execution_count": null,
   "id": "2b98de37",
   "metadata": {},
   "outputs": [],
   "source": [
    "\n",
    "# Encoding diagnosis M=1, B=0\n",
    "le = LabelEncoder()\n",
    "y = le.fit_transform(y)\n",
    "y[:10]\n"
   ]
  },
  {
   "cell_type": "code",
   "execution_count": null,
   "id": "308c8645",
   "metadata": {},
   "outputs": [],
   "source": [
    "\n",
    "# Buat pipeline\n",
    "pipe = Pipeline([\n",
    "    (\"scaler\", StandardScaler()),\n",
    "    (\"select\", SelectKBest(score_func=f_classif, k=10)),  # default 10 fitur dulu\n",
    "    (\"model\", LogisticRegression(max_iter=500))\n",
    "])\n",
    "\n",
    "# Split data\n",
    "X_train, X_test, y_train, y_test = train_test_split(X, y, test_size=0.2, random_state=42, stratify=y)\n",
    "\n",
    "pipe.fit(X_train, y_train)\n",
    "score = pipe.score(X_test, y_test)\n",
    "score\n"
   ]
  },
  {
   "cell_type": "code",
   "execution_count": null,
   "id": "d6a54086",
   "metadata": {},
   "outputs": [],
   "source": [
    "\n",
    "results = {}\n",
    "for k in range(1, X.shape[1]+1):\n",
    "    pipe = Pipeline([\n",
    "        (\"scaler\", StandardScaler()),\n",
    "        (\"select\", SelectKBest(score_func=f_classif, k=k)),\n",
    "        (\"model\", LogisticRegression(max_iter=500))\n",
    "    ])\n",
    "    scores = cross_val_score(pipe, X, y, cv=5)\n",
    "    results[k] = np.mean(scores)\n",
    "\n",
    "best_k = max(results, key=results.get)\n",
    "best_score = results[best_k]\n",
    "best_k, best_score\n"
   ]
  },
  {
   "cell_type": "code",
   "execution_count": null,
   "id": "14cbe46a",
   "metadata": {},
   "outputs": [],
   "source": [
    "\n",
    "# Fit kembali dengan k terbaik\n",
    "selector = SelectKBest(score_func=f_classif, k=best_k)\n",
    "X_new = selector.fit_transform(StandardScaler().fit_transform(X), y)\n",
    "\n",
    "# Ambil nama fitur yang terpilih\n",
    "mask = selector.get_support()\n",
    "selected_features = X.columns[mask]\n",
    "selected_features\n"
   ]
  },
  {
   "cell_type": "markdown",
   "id": "cd5e55b7",
   "metadata": {},
   "source": [
    "\n",
    "## Kesimpulan\n",
    "- Jumlah fitur terbaik ditentukan dari nilai `best_k`.\n",
    "- Daftar fitur yang terpilih dapat dilihat pada output `selected_features`.\n"
   ]
  }
 ],
 "metadata": {},
 "nbformat": 4,
 "nbformat_minor": 5
}